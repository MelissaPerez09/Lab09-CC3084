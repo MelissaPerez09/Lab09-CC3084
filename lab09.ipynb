{
 "cells": [
  {
   "cell_type": "markdown",
   "metadata": {},
   "source": [
    "# Laboratorio 09 - Visualización de datos\n",
    "Integrantes:\n",
    "- José Pablo Kiesling Lange, 21581\n",
    "- Melissa Pérez Alarcón, 21385"
   ]
  },
  {
   "cell_type": "code",
   "execution_count": 1,
   "metadata": {},
   "outputs": [
    {
     "name": "stdout",
     "output_type": "stream",
     "text": [
      "Path to dataset files: /Users/melissa/.cache/kagglehub/datasets/shivamb/netflix-shows/versions/5\n"
     ]
    }
   ],
   "source": [
    "#import data\n",
    "\n",
    "\"\"\"\n",
    "Netflix Movies and TV Shows\n",
    "\"\"\"\n",
    "import kagglehub\n",
    "path = kagglehub.dataset_download(\"shivamb/netflix-shows\")\n",
    "\n",
    "print(\"Path to dataset files:\", path)"
   ]
  },
  {
   "cell_type": "code",
   "execution_count": 2,
   "metadata": {},
   "outputs": [
    {
     "name": "stdout",
     "output_type": "stream",
     "text": [
      "Path to dataset files: /Users/melissa/.cache/kagglehub/datasets/rohitsahoo/sales-forecasting/versions/2\n"
     ]
    }
   ],
   "source": [
    "\"\"\"\n",
    "Superstore Sales Dataset\n",
    "\"\"\"\n",
    "path = kagglehub.dataset_download(\"rohitsahoo/sales-forecasting\")\n",
    "\n",
    "print(\"Path to dataset files:\", path)"
   ]
  },
  {
   "cell_type": "code",
   "execution_count": 3,
   "metadata": {},
   "outputs": [],
   "source": [
    "\"\"\"\n",
    "GLB.Ts+dSST\n",
    "\"\"\"\n",
    "import pandas as pd\n",
    "\n",
    "data_path = \"./data/GLB.Ts+dSST.csv\"\n",
    "data = pd.read_csv(data_path)"
   ]
  }
 ],
 "metadata": {
  "kernelspec": {
   "display_name": "Python 3",
   "language": "python",
   "name": "python3"
  },
  "language_info": {
   "codemirror_mode": {
    "name": "ipython",
    "version": 3
   },
   "file_extension": ".py",
   "mimetype": "text/x-python",
   "name": "python",
   "nbconvert_exporter": "python",
   "pygments_lexer": "ipython3",
   "version": "3.11.10"
  }
 },
 "nbformat": 4,
 "nbformat_minor": 2
}
